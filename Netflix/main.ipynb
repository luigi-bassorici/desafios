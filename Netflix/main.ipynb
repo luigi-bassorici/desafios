{
 "cells": [
  {
   "cell_type": "code",
   "execution_count": 1,
   "metadata": {},
   "outputs": [],
   "source": [
    "import pandas as pd\n",
    "\n",
    "data = pd.read_csv('data/netflix_titles.csv')"
   ]
  },
  {
   "cell_type": "code",
   "execution_count": 40,
   "metadata": {},
   "outputs": [
    {
     "data": {
      "text/plain": [
       "0     As her father nears the end of his life, filmm...\n",
       "1     After crossing paths at a party, a Cape Town t...\n",
       "2     To protect his family from a powerful drug lor...\n",
       "3     Feuds, flirtations and toilet talk go down amo...\n",
       "4     In a city of coaching centers known to train I...\n",
       "5     The arrival of a charismatic young priest brin...\n",
       "6     Equestria's divided. But a bright-eyed hero be...\n",
       "7     On a photo shoot in Ghana, an American model s...\n",
       "8     A talented batch of amateur bakers face off in...\n",
       "9     A woman adjusting to life after a loss contend...\n",
       "10    Sicily boasts a bold \"Anti-Mafia\" coalition. B...\n",
       "11    Struggling to earn a living in Bangkok, a man ...\n",
       "12    After most of her family is murdered in a terr...\n",
       "13    When the clever but socially-awkward Tetê join...\n",
       "14    Cameras following Bengaluru police on the job ...\n",
       "15    Students of color navigate the daily slights a...\n",
       "16    Declassified documents reveal the post-WWII li...\n",
       "17    Strangers Diego and Isabel flee their home in ...\n",
       "18    After a deadly home invasion at a couple’s new...\n",
       "19    In the 1960s, a Holocaust survivor joins a gro...\n",
       "Name: description, dtype: object"
      ]
     },
     "execution_count": 40,
     "metadata": {},
     "output_type": "execute_result"
    }
   ],
   "source": [
    "#data.loc[:,\"show_id\"].head(20)\n",
    "#data.loc[:,\"type\"].head(20)\n",
    "#data.loc[:,\"title\"].head(20)\n",
    "#data.loc[:,\"director\"].head(20)\n",
    "#data.loc[:,\"cast\"].head(20)\n",
    "#data.loc[:,\"country\"].head(20)\n",
    "#data.loc[:,\"date_added\"].head(20)\n",
    "#data.loc[:,\"release_year\"].head(20)\n",
    "#data.loc[:,\"rating\"].head(20)\n",
    "#data.loc[:,\"duration\"].head(20)\n",
    "#data.loc[:,\"listed_in\"].head(20)\n",
    "#data.loc[:,\"description\"].head(20)"
   ]
  }
 ],
 "metadata": {
  "kernelspec": {
   "display_name": "Python 3 (ipykernel)",
   "language": "python",
   "name": "python3"
  },
  "language_info": {
   "codemirror_mode": {
    "name": "ipython",
    "version": 3
   },
   "file_extension": ".py",
   "mimetype": "text/x-python",
   "name": "python",
   "nbconvert_exporter": "python",
   "pygments_lexer": "ipython3",
   "version": "3.10.6"
  },
  "vscode": {
   "interpreter": {
    "hash": "51d3d2e1ba0a8539e328328b07897c4022b95914f81625215f6fd3d66ebf2996"
   }
  }
 },
 "nbformat": 4,
 "nbformat_minor": 2
}
